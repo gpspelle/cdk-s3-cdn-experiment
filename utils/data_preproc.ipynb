{
 "cells": [
  {
   "cell_type": "markdown",
   "id": "31e8f929",
   "metadata": {},
   "source": [
    "#### Data processing notebook\n",
    "\n",
    "This notebook will process the data acquired on experiments around the latency to fetch a file from an S3 bucket directly or passing through AWS CDN, a.k.a CloudFront."
   ]
  },
  {
   "cell_type": "markdown",
   "id": "8a2d261e",
   "metadata": {},
   "source": [
    "#### Methodology\n",
    "\n",
    "An S3 bucket is deployed in each continent \n",
    "\n",
    "[\"sa-east-1\", \"us-east-1\", \"af-south-1\", \"ap-northeast-1\", \"eu-west-1\", \"ap-southeast-2\"](https://github.com/gpspelle/cdk-s3-cdn-experiment/blob/main/cdk/bin/pfg.ts#L53)\n",
    "\n",
    "São Paulo (Brazil), North Virginia (United States), South Africa, Tokyo (Japan), Ireland, Sydney (Australia).\n",
    "\n",
    "On top of that, CloudFront is deployed and is serving the content from each ofthese buckets from a specific route. So, if https://gpspelle.click is the domain used by CloudFront, https://gpspelle.click/sa-east-1/* requests are redirected to the São Paulo (sa-east-1) bucket.\n",
    "\n",
    "To measure the difference of performance with or without cloudfront, for each region, the files from the bucket are fetched passing through cloudfront and not passing through it. There's a log containing the result of these requests for each region.\n",
    "\n",
    "Each file consists of a fixed amount of lines, in our early experiments, it's 10, where each line contains the following information:\n",
    "\n",
    "\n",
    "- ProcessDate := when the fetch request was executed\n",
    "- SourceUrl := URL used to get the content, it can be a CF url or an S3 url\n",
    "- FileSize := size of the file that is fetched\n",
    "- ElapsedTime := time to fetch the file\n",
    "- StatusCode := status code of the request\n",
    "\n",
    "For now, we are considering files with [1kb, 10kb, 100kb, 1000kb](https://github.com/gpspelle/cdk-s3-cdn-experiment/blob/main/utils/fetchFiles.cjs#L112)\n"
   ]
  },
  {
   "cell_type": "markdown",
   "id": "99aa2ad9",
   "metadata": {},
   "source": [
    "If you are running on a mac m1: brew install gdal proj"
   ]
  },
  {
   "cell_type": "code",
   "execution_count": 1,
   "id": "3c12e935",
   "metadata": {},
   "outputs": [
    {
     "name": "stdout",
     "output_type": "stream",
     "text": [
      "\u001b[33mDEPRECATION: Configuring installation scheme with distutils config files is deprecated and will no longer work in the near future. If you are using a Homebrew or Linuxbrew Python, please see discussion at https://github.com/Homebrew/homebrew-core/issues/76621\u001b[0m\u001b[33m\n",
      "\u001b[0mDefaulting to user installation because normal site-packages is not writeable\n",
      "Requirement already satisfied: numpy in /opt/homebrew/lib/python3.9/site-packages (from -r requirements.txt (line 1)) (1.21.4)\n",
      "Requirement already satisfied: pandas in /opt/homebrew/lib/python3.9/site-packages (from -r requirements.txt (line 2)) (1.3.5)\n",
      "Requirement already satisfied: matplotlib in /opt/homebrew/lib/python3.9/site-packages (from -r requirements.txt (line 3)) (3.5.2)\n",
      "Requirement already satisfied: geopandas in /opt/homebrew/lib/python3.9/site-packages (from -r requirements.txt (line 4)) (0.10.2)\n",
      "Requirement already satisfied: python-dotenv in /opt/homebrew/lib/python3.9/site-packages (from -r requirements.txt (line 5)) (0.20.0)\n",
      "Requirement already satisfied: plotly in /Users/gpspelle/Library/Python/3.9/lib/python/site-packages (from -r requirements.txt (line 6)) (5.8.2)\n",
      "Requirement already satisfied: python-dateutil>=2.7.3 in /opt/homebrew/lib/python3.9/site-packages (from pandas->-r requirements.txt (line 2)) (2.8.2)\n",
      "Requirement already satisfied: pytz>=2017.3 in /opt/homebrew/lib/python3.9/site-packages (from pandas->-r requirements.txt (line 2)) (2021.3)\n",
      "Requirement already satisfied: fonttools>=4.22.0 in /opt/homebrew/lib/python3.9/site-packages (from matplotlib->-r requirements.txt (line 3)) (4.33.3)\n",
      "Requirement already satisfied: pillow>=6.2.0 in /opt/homebrew/lib/python3.9/site-packages (from matplotlib->-r requirements.txt (line 3)) (9.1.0)\n",
      "Requirement already satisfied: pyparsing>=2.2.1 in /opt/homebrew/lib/python3.9/site-packages (from matplotlib->-r requirements.txt (line 3)) (3.0.7)\n",
      "Requirement already satisfied: cycler>=0.10 in /opt/homebrew/lib/python3.9/site-packages (from matplotlib->-r requirements.txt (line 3)) (0.11.0)\n",
      "Requirement already satisfied: packaging>=20.0 in /opt/homebrew/lib/python3.9/site-packages (from matplotlib->-r requirements.txt (line 3)) (21.3)\n",
      "Requirement already satisfied: kiwisolver>=1.0.1 in /opt/homebrew/lib/python3.9/site-packages (from matplotlib->-r requirements.txt (line 3)) (1.4.2)\n",
      "Requirement already satisfied: shapely>=1.6 in /opt/homebrew/lib/python3.9/site-packages (from geopandas->-r requirements.txt (line 4)) (1.8.2)\n",
      "Requirement already satisfied: pyproj>=2.2.0 in /opt/homebrew/lib/python3.9/site-packages (from geopandas->-r requirements.txt (line 4)) (3.3.1)\n",
      "Requirement already satisfied: fiona>=1.8 in /opt/homebrew/lib/python3.9/site-packages (from geopandas->-r requirements.txt (line 4)) (1.8.21)\n",
      "Requirement already satisfied: tenacity>=6.2.0 in /Users/gpspelle/Library/Python/3.9/lib/python/site-packages (from plotly->-r requirements.txt (line 6)) (8.0.1)\n",
      "Requirement already satisfied: setuptools in /opt/homebrew/lib/python3.9/site-packages (from fiona>=1.8->geopandas->-r requirements.txt (line 4)) (62.3.2)\n",
      "Requirement already satisfied: certifi in /opt/homebrew/lib/python3.9/site-packages (from fiona>=1.8->geopandas->-r requirements.txt (line 4)) (2021.10.8)\n",
      "Requirement already satisfied: click-plugins>=1.0 in /opt/homebrew/lib/python3.9/site-packages (from fiona>=1.8->geopandas->-r requirements.txt (line 4)) (1.1.1)\n",
      "Requirement already satisfied: six>=1.7 in /opt/homebrew/lib/python3.9/site-packages (from fiona>=1.8->geopandas->-r requirements.txt (line 4)) (1.16.0)\n",
      "Requirement already satisfied: cligj>=0.5 in /opt/homebrew/lib/python3.9/site-packages (from fiona>=1.8->geopandas->-r requirements.txt (line 4)) (0.7.2)\n",
      "Requirement already satisfied: munch in /opt/homebrew/lib/python3.9/site-packages (from fiona>=1.8->geopandas->-r requirements.txt (line 4)) (2.5.0)\n",
      "Requirement already satisfied: click>=4.0 in /opt/homebrew/lib/python3.9/site-packages (from fiona>=1.8->geopandas->-r requirements.txt (line 4)) (8.1.3)\n",
      "Requirement already satisfied: attrs>=17 in /opt/homebrew/lib/python3.9/site-packages (from fiona>=1.8->geopandas->-r requirements.txt (line 4)) (21.4.0)\n",
      "\u001b[33mWARNING: There was an error checking the latest version of pip.\u001b[0m\u001b[33m\n",
      "\u001b[0m"
     ]
    }
   ],
   "source": [
    "!pip install -r requirements.txt"
   ]
  },
  {
   "cell_type": "code",
   "execution_count": 2,
   "id": "6a9ebb2e",
   "metadata": {},
   "outputs": [],
   "source": [
    "import pandas as pd\n",
    "import numpy as np\n",
    "import matplotlib.pyplot as plt\n",
    "import geopandas as gpd\n",
    "from os import listdir\n",
    "from mpl_toolkits.axes_grid1 import make_axes_locatable"
   ]
  },
  {
   "cell_type": "code",
   "execution_count": 3,
   "id": "418ab889",
   "metadata": {},
   "outputs": [],
   "source": [
    "AWS_regions = {\n",
    "    'sa-east-1': 'Brazil',\n",
    "    'us-east-1': 'United States of America',\n",
    "    'af-south-1': 'South Africa',\n",
    "    'ap-northeast-1': 'Japan',\n",
    "    'eu-west-1': 'Ireland',\n",
    "    'ap-southeast-2': 'Australia'\n",
    "}\n",
    "\n",
    "file_sizes = [\"1kb\", \"10kb\", \"100kb\", \"1000kb\"]\n",
    "custom_domain = \"https://gpspelle.click\""
   ]
  },
  {
   "cell_type": "code",
   "execution_count": 4,
   "id": "77083fde",
   "metadata": {},
   "outputs": [],
   "source": [
    "# Helper function to get the .csv files generated by the fetch command\n",
    "def find_csv_filenames(path_to_dir, suffix=\".csv\"):\n",
    "    filenames = listdir(path_to_dir)\n",
    "    return [ filename for filename in filenames if filename.endswith( suffix ) ]"
   ]
  },
  {
   "cell_type": "code",
   "execution_count": 5,
   "id": "6ededab9",
   "metadata": {},
   "outputs": [],
   "source": [
    "filenames = find_csv_filenames(\".\")"
   ]
  },
  {
   "cell_type": "code",
   "execution_count": 6,
   "id": "42628f8c",
   "metadata": {},
   "outputs": [],
   "source": [
    "logs = {}\n",
    "for filename in filenames:\n",
    "    df = pd.read_csv(filename)\n",
    "    assert (df['StatusCode'] == 200).all()\n",
    "    for AWS_region in AWS_regions:\n",
    "        if AWS_region in filename:\n",
    "            df.drop(columns=['StatusCode'], inplace=True)\n",
    "            logs_per_file_size_and_source = {}\n",
    "            for file_size in file_sizes:\n",
    "                df_file_size = df[df['FileSize'] == file_size]\n",
    "                df_file_size_and_source = df_file_size.groupby('SourceUrl')\n",
    "                logs_per_file_size_and_source[file_size] = df_file_size_and_source\n",
    "            logs[AWS_region] = logs_per_file_size_and_source"
   ]
  },
  {
   "cell_type": "code",
   "execution_count": 22,
   "id": "2c91d6dd",
   "metadata": {},
   "outputs": [
    {
     "name": "stdout",
     "output_type": "stream",
     "text": [
      "\u001b[33mDEPRECATION: Configuring installation scheme with distutils config files is deprecated and will no longer work in the near future. If you are using a Homebrew or Linuxbrew Python, please see discussion at https://github.com/Homebrew/homebrew-core/issues/76621\u001b[0m\u001b[33m\n",
      "\u001b[0mDefaulting to user installation because normal site-packages is not writeable\n",
      "Requirement already satisfied: pip in /opt/homebrew/lib/python3.9/site-packages (22.1.1)\n",
      "Collecting install\n",
      "  Downloading install-1.3.5-py3-none-any.whl (3.2 kB)\n",
      "Collecting dataframe-image\n",
      "  Downloading dataframe_image-0.1.1-py3-none-any.whl (32 kB)\n",
      "Requirement already satisfied: matplotlib>=3.1 in /opt/homebrew/lib/python3.9/site-packages (from dataframe-image) (3.5.2)\n",
      "Requirement already satisfied: nbconvert>=5 in /opt/homebrew/lib/python3.9/site-packages (from dataframe-image) (6.5.0)\n",
      "Requirement already satisfied: requests in /opt/homebrew/lib/python3.9/site-packages (from dataframe-image) (2.27.1)\n",
      "Requirement already satisfied: pandas>=0.24 in /opt/homebrew/lib/python3.9/site-packages (from dataframe-image) (1.3.5)\n",
      "Collecting aiohttp\n",
      "  Downloading aiohttp-3.8.1-cp39-cp39-macosx_11_0_arm64.whl (552 kB)\n",
      "\u001b[2K     \u001b[90m━━━━━━━━━━━━━━━━━━━━━━━━━━━━━━━━━━━━━━━\u001b[0m \u001b[32m552.3/552.3 kB\u001b[0m \u001b[31m8.7 MB/s\u001b[0m eta \u001b[36m0:00:00\u001b[0ma \u001b[36m0:00:01\u001b[0m\n",
      "\u001b[?25hRequirement already satisfied: beautifulsoup4 in /opt/homebrew/lib/python3.9/site-packages (from dataframe-image) (4.11.1)\n",
      "Requirement already satisfied: cycler>=0.10 in /opt/homebrew/lib/python3.9/site-packages (from matplotlib>=3.1->dataframe-image) (0.11.0)\n",
      "Requirement already satisfied: kiwisolver>=1.0.1 in /opt/homebrew/lib/python3.9/site-packages (from matplotlib>=3.1->dataframe-image) (1.4.2)\n",
      "Requirement already satisfied: pyparsing>=2.2.1 in /opt/homebrew/lib/python3.9/site-packages (from matplotlib>=3.1->dataframe-image) (3.0.7)\n",
      "Requirement already satisfied: numpy>=1.17 in /opt/homebrew/lib/python3.9/site-packages (from matplotlib>=3.1->dataframe-image) (1.21.4)\n",
      "Requirement already satisfied: python-dateutil>=2.7 in /opt/homebrew/lib/python3.9/site-packages (from matplotlib>=3.1->dataframe-image) (2.8.2)\n",
      "Requirement already satisfied: packaging>=20.0 in /opt/homebrew/lib/python3.9/site-packages (from matplotlib>=3.1->dataframe-image) (21.3)\n",
      "Requirement already satisfied: pillow>=6.2.0 in /opt/homebrew/lib/python3.9/site-packages (from matplotlib>=3.1->dataframe-image) (9.1.0)\n",
      "Requirement already satisfied: fonttools>=4.22.0 in /opt/homebrew/lib/python3.9/site-packages (from matplotlib>=3.1->dataframe-image) (4.33.3)\n",
      "Requirement already satisfied: mistune<2,>=0.8.1 in /opt/homebrew/lib/python3.9/site-packages (from nbconvert>=5->dataframe-image) (0.8.4)\n",
      "Requirement already satisfied: pandocfilters>=1.4.1 in /opt/homebrew/lib/python3.9/site-packages (from nbconvert>=5->dataframe-image) (1.5.0)\n",
      "Requirement already satisfied: jinja2>=3.0 in /opt/homebrew/lib/python3.9/site-packages (from nbconvert>=5->dataframe-image) (3.1.2)\n",
      "Requirement already satisfied: nbclient>=0.5.0 in /opt/homebrew/lib/python3.9/site-packages (from nbconvert>=5->dataframe-image) (0.6.2)\n",
      "Requirement already satisfied: MarkupSafe>=2.0 in /opt/homebrew/lib/python3.9/site-packages (from nbconvert>=5->dataframe-image) (2.1.1)\n",
      "Requirement already satisfied: bleach in /opt/homebrew/lib/python3.9/site-packages (from nbconvert>=5->dataframe-image) (5.0.0)\n",
      "Requirement already satisfied: entrypoints>=0.2.2 in /opt/homebrew/lib/python3.9/site-packages (from nbconvert>=5->dataframe-image) (0.4)\n",
      "Requirement already satisfied: jupyter-core>=4.7 in /opt/homebrew/lib/python3.9/site-packages (from nbconvert>=5->dataframe-image) (4.10.0)\n",
      "Requirement already satisfied: jupyterlab-pygments in /opt/homebrew/lib/python3.9/site-packages (from nbconvert>=5->dataframe-image) (0.2.2)\n",
      "Requirement already satisfied: nbformat>=5.1 in /opt/homebrew/lib/python3.9/site-packages (from nbconvert>=5->dataframe-image) (5.4.0)\n",
      "Requirement already satisfied: pygments>=2.4.1 in /opt/homebrew/lib/python3.9/site-packages (from nbconvert>=5->dataframe-image) (2.12.0)\n",
      "Requirement already satisfied: traitlets>=5.0 in /opt/homebrew/lib/python3.9/site-packages (from nbconvert>=5->dataframe-image) (5.1.1)\n",
      "Requirement already satisfied: tinycss2 in /opt/homebrew/lib/python3.9/site-packages (from nbconvert>=5->dataframe-image) (1.1.1)\n",
      "Requirement already satisfied: defusedxml in /opt/homebrew/lib/python3.9/site-packages (from nbconvert>=5->dataframe-image) (0.7.1)\n",
      "Requirement already satisfied: pytz>=2017.3 in /opt/homebrew/lib/python3.9/site-packages (from pandas>=0.24->dataframe-image) (2021.3)\n",
      "Collecting aiosignal>=1.1.2\n",
      "  Downloading aiosignal-1.2.0-py3-none-any.whl (8.2 kB)\n",
      "Requirement already satisfied: charset-normalizer<3.0,>=2.0 in /opt/homebrew/lib/python3.9/site-packages (from aiohttp->dataframe-image) (2.0.12)\n",
      "Collecting yarl<2.0,>=1.0\n",
      "  Downloading yarl-1.7.2-cp39-cp39-macosx_11_0_arm64.whl (118 kB)\n",
      "\u001b[2K     \u001b[90m━━━━━━━━━━━━━━━━━━━━━━━━━━━━━━━━━━━━━━━\u001b[0m \u001b[32m118.1/118.1 kB\u001b[0m \u001b[31m5.4 MB/s\u001b[0m eta \u001b[36m0:00:00\u001b[0m\n",
      "\u001b[?25hCollecting frozenlist>=1.1.1\n",
      "  Downloading frozenlist-1.3.0-cp39-cp39-macosx_11_0_arm64.whl (34 kB)\n",
      "Collecting multidict<7.0,>=4.5\n",
      "  Downloading multidict-6.0.2-cp39-cp39-macosx_11_0_arm64.whl (29 kB)\n",
      "Collecting async-timeout<5.0,>=4.0.0a3\n",
      "  Downloading async_timeout-4.0.2-py3-none-any.whl (5.8 kB)\n",
      "Requirement already satisfied: attrs>=17.3.0 in /opt/homebrew/lib/python3.9/site-packages (from aiohttp->dataframe-image) (21.4.0)\n",
      "Requirement already satisfied: soupsieve>1.2 in /opt/homebrew/lib/python3.9/site-packages (from beautifulsoup4->dataframe-image) (2.3.2.post1)\n",
      "Requirement already satisfied: certifi>=2017.4.17 in /opt/homebrew/lib/python3.9/site-packages (from requests->dataframe-image) (2021.10.8)\n",
      "Requirement already satisfied: idna<4,>=2.5 in /opt/homebrew/lib/python3.9/site-packages (from requests->dataframe-image) (3.3)\n",
      "Requirement already satisfied: urllib3<1.27,>=1.21.1 in /opt/homebrew/lib/python3.9/site-packages (from requests->dataframe-image) (1.26.9)\n",
      "Requirement already satisfied: jupyter-client>=6.1.5 in /opt/homebrew/lib/python3.9/site-packages (from nbclient>=0.5.0->nbconvert>=5->dataframe-image) (7.3.1)\n",
      "Requirement already satisfied: nest-asyncio in /opt/homebrew/lib/python3.9/site-packages (from nbclient>=0.5.0->nbconvert>=5->dataframe-image) (1.5.5)\n",
      "Requirement already satisfied: fastjsonschema in /opt/homebrew/lib/python3.9/site-packages (from nbformat>=5.1->nbconvert>=5->dataframe-image) (2.15.3)\n",
      "Requirement already satisfied: jsonschema>=2.6 in /opt/homebrew/lib/python3.9/site-packages (from nbformat>=5.1->nbconvert>=5->dataframe-image) (4.5.1)\n",
      "Requirement already satisfied: six>=1.5 in /opt/homebrew/lib/python3.9/site-packages (from python-dateutil>=2.7->matplotlib>=3.1->dataframe-image) (1.16.0)\n",
      "Requirement already satisfied: webencodings in /opt/homebrew/lib/python3.9/site-packages (from bleach->nbconvert>=5->dataframe-image) (0.5.1)\n",
      "Requirement already satisfied: pyrsistent!=0.17.0,!=0.17.1,!=0.17.2,>=0.14.0 in /opt/homebrew/lib/python3.9/site-packages (from jsonschema>=2.6->nbformat>=5.1->nbconvert>=5->dataframe-image) (0.18.1)\n",
      "Requirement already satisfied: tornado>=6.0 in /opt/homebrew/lib/python3.9/site-packages (from jupyter-client>=6.1.5->nbclient>=0.5.0->nbconvert>=5->dataframe-image) (6.1)\n",
      "Requirement already satisfied: pyzmq>=22.3 in /opt/homebrew/lib/python3.9/site-packages (from jupyter-client>=6.1.5->nbclient>=0.5.0->nbconvert>=5->dataframe-image) (22.3.0)\n",
      "Installing collected packages: multidict, install, frozenlist, async-timeout, yarl, aiosignal, aiohttp, dataframe-image\n",
      "\u001b[33m  WARNING: The script dataframe_image is installed in '/Users/gpspelle/Library/Python/3.9/bin' which is not on PATH.\n",
      "  Consider adding this directory to PATH or, if you prefer to suppress this warning, use --no-warn-script-location.\u001b[0m\u001b[33m\n",
      "\u001b[0mSuccessfully installed aiohttp-3.8.1 aiosignal-1.2.0 async-timeout-4.0.2 dataframe-image-0.1.1 frozenlist-1.3.0 install-1.3.5 multidict-6.0.2 yarl-1.7.2\n",
      "\u001b[33mWARNING: There was an error checking the latest version of pip.\u001b[0m\u001b[33m\n",
      "\u001b[0m"
     ]
    }
   ],
   "source": [
    "!pip install pip install dataframe-image"
   ]
  },
  {
   "cell_type": "code",
   "execution_count": null,
   "id": "83404272",
   "metadata": {},
   "outputs": [],
   "source": []
  },
  {
   "cell_type": "code",
   "execution_count": 27,
   "id": "0a1db436",
   "metadata": {},
   "outputs": [
    {
     "name": "stderr",
     "output_type": "stream",
     "text": [
      "[0628/190805.043133:INFO:headless_shell.cc(660)] Written to file /var/folders/st/y0fjdkf52zgd0xg60bljqr0h0000gn/T/tmp5ynie4ib/temp.png.\n",
      "[0628/190805.802891:INFO:headless_shell.cc(660)] Written to file /var/folders/st/y0fjdkf52zgd0xg60bljqr0h0000gn/T/tmp8jl6ifcw/temp.png.\n",
      "[0628/190806.552661:INFO:headless_shell.cc(660)] Written to file /var/folders/st/y0fjdkf52zgd0xg60bljqr0h0000gn/T/tmp8zejhyk5/temp.png.\n",
      "[0628/190807.301626:INFO:headless_shell.cc(660)] Written to file /var/folders/st/y0fjdkf52zgd0xg60bljqr0h0000gn/T/tmpzzcw6x_t/temp.png.\n",
      "[0628/190808.050608:INFO:headless_shell.cc(660)] Written to file /var/folders/st/y0fjdkf52zgd0xg60bljqr0h0000gn/T/tmpfgoqq8xs/temp.png.\n",
      "[0628/190808.801731:INFO:headless_shell.cc(660)] Written to file /var/folders/st/y0fjdkf52zgd0xg60bljqr0h0000gn/T/tmpmqmtf8ge/temp.png.\n",
      "[0628/190809.552292:INFO:headless_shell.cc(660)] Written to file /var/folders/st/y0fjdkf52zgd0xg60bljqr0h0000gn/T/tmpwvimd2yz/temp.png.\n",
      "[0628/190810.319563:INFO:headless_shell.cc(660)] Written to file /var/folders/st/y0fjdkf52zgd0xg60bljqr0h0000gn/T/tmpr5ppnbl7/temp.png.\n",
      "[0628/190811.084500:INFO:headless_shell.cc(660)] Written to file /var/folders/st/y0fjdkf52zgd0xg60bljqr0h0000gn/T/tmp1518uvok/temp.png.\n",
      "[0628/190811.851625:INFO:headless_shell.cc(660)] Written to file /var/folders/st/y0fjdkf52zgd0xg60bljqr0h0000gn/T/tmpni2htzeo/temp.png.\n",
      "[0628/190812.619301:INFO:headless_shell.cc(660)] Written to file /var/folders/st/y0fjdkf52zgd0xg60bljqr0h0000gn/T/tmpn_f_up6o/temp.png.\n",
      "[0628/190813.384740:INFO:headless_shell.cc(660)] Written to file /var/folders/st/y0fjdkf52zgd0xg60bljqr0h0000gn/T/tmp612t7l0b/temp.png.\n",
      "[0628/190814.162293:INFO:headless_shell.cc(660)] Written to file /var/folders/st/y0fjdkf52zgd0xg60bljqr0h0000gn/T/tmpg_j1cpt9/temp.png.\n",
      "[0628/190815.016758:INFO:headless_shell.cc(660)] Written to file /var/folders/st/y0fjdkf52zgd0xg60bljqr0h0000gn/T/tmp0g8ik_jy/temp.png.\n",
      "[0628/190815.792103:INFO:headless_shell.cc(660)] Written to file /var/folders/st/y0fjdkf52zgd0xg60bljqr0h0000gn/T/tmpi9axwcqt/temp.png.\n",
      "[0628/190816.671984:INFO:headless_shell.cc(660)] Written to file /var/folders/st/y0fjdkf52zgd0xg60bljqr0h0000gn/T/tmp_nnozqxn/temp.png.\n",
      "[0628/190817.473655:INFO:headless_shell.cc(660)] Written to file /var/folders/st/y0fjdkf52zgd0xg60bljqr0h0000gn/T/tmp_ckfqewa/temp.png.\n",
      "[0628/190818.334268:INFO:headless_shell.cc(660)] Written to file /var/folders/st/y0fjdkf52zgd0xg60bljqr0h0000gn/T/tmpwx8rttzb/temp.png.\n",
      "[0628/190819.125282:INFO:headless_shell.cc(660)] Written to file /var/folders/st/y0fjdkf52zgd0xg60bljqr0h0000gn/T/tmpqrsmh3jy/temp.png.\n",
      "[0628/190820.010590:INFO:headless_shell.cc(660)] Written to file /var/folders/st/y0fjdkf52zgd0xg60bljqr0h0000gn/T/tmpm1ggvkit/temp.png.\n",
      "[0628/190820.828327:INFO:headless_shell.cc(660)] Written to file /var/folders/st/y0fjdkf52zgd0xg60bljqr0h0000gn/T/tmpov49cqdf/temp.png.\n",
      "[0628/190821.685584:INFO:headless_shell.cc(660)] Written to file /var/folders/st/y0fjdkf52zgd0xg60bljqr0h0000gn/T/tmp5keyfp8m/temp.png.\n",
      "[0628/190822.452025:INFO:headless_shell.cc(660)] Written to file /var/folders/st/y0fjdkf52zgd0xg60bljqr0h0000gn/T/tmppihjr9u9/temp.png.\n",
      "[0628/190823.234721:INFO:headless_shell.cc(660)] Written to file /var/folders/st/y0fjdkf52zgd0xg60bljqr0h0000gn/T/tmp2m4t6rfv/temp.png.\n",
      "[0628/190824.000941:INFO:headless_shell.cc(660)] Written to file /var/folders/st/y0fjdkf52zgd0xg60bljqr0h0000gn/T/tmprs89i7bv/temp.png.\n",
      "[0628/190824.769568:INFO:headless_shell.cc(660)] Written to file /var/folders/st/y0fjdkf52zgd0xg60bljqr0h0000gn/T/tmptc35qz6w/temp.png.\n",
      "[0628/190825.558238:INFO:headless_shell.cc(660)] Written to file /var/folders/st/y0fjdkf52zgd0xg60bljqr0h0000gn/T/tmp6vvomsf2/temp.png.\n",
      "[0628/190826.416809:INFO:headless_shell.cc(660)] Written to file /var/folders/st/y0fjdkf52zgd0xg60bljqr0h0000gn/T/tmpqnxb336a/temp.png.\n",
      "[0628/190827.192691:INFO:headless_shell.cc(660)] Written to file /var/folders/st/y0fjdkf52zgd0xg60bljqr0h0000gn/T/tmpegs00f8h/temp.png.\n",
      "[0628/190828.048505:INFO:headless_shell.cc(660)] Written to file /var/folders/st/y0fjdkf52zgd0xg60bljqr0h0000gn/T/tmpe3toanek/temp.png.\n",
      "[0628/190828.825773:INFO:headless_shell.cc(660)] Written to file /var/folders/st/y0fjdkf52zgd0xg60bljqr0h0000gn/T/tmprnhc7aev/temp.png.\n",
      "[0628/190829.701292:INFO:headless_shell.cc(660)] Written to file /var/folders/st/y0fjdkf52zgd0xg60bljqr0h0000gn/T/tmpd0ct8l3j/temp.png.\n",
      "[0628/190830.489257:INFO:headless_shell.cc(660)] Written to file /var/folders/st/y0fjdkf52zgd0xg60bljqr0h0000gn/T/tmp0pxpwk84/temp.png.\n"
     ]
    }
   ],
   "source": [
    "import matplotlib.pyplot as plt\n",
    "from pandas.plotting import table\n",
    "import dataframe_image as dfi\n",
    "\n",
    "for AWS_region in AWS_regions:\n",
    "    for file_size in file_sizes:\n",
    "        desc = logs[AWS_region][file_size].describe()\n",
    "        dfi.export(desc, 'df-' + AWS_region + '-' + file_size + '.png')"
   ]
  },
  {
   "cell_type": "code",
   "execution_count": 15,
   "id": "ff61186c",
   "metadata": {},
   "outputs": [
    {
     "data": {
      "text/html": [
       "<div>\n",
       "<style scoped>\n",
       "    .dataframe tbody tr th:only-of-type {\n",
       "        vertical-align: middle;\n",
       "    }\n",
       "\n",
       "    .dataframe tbody tr th {\n",
       "        vertical-align: top;\n",
       "    }\n",
       "\n",
       "    .dataframe thead tr th {\n",
       "        text-align: left;\n",
       "    }\n",
       "\n",
       "    .dataframe thead tr:last-of-type th {\n",
       "        text-align: right;\n",
       "    }\n",
       "</style>\n",
       "<table border=\"1\" class=\"dataframe\">\n",
       "  <thead>\n",
       "    <tr>\n",
       "      <th></th>\n",
       "      <th colspan=\"8\" halign=\"left\">ElapsedTime</th>\n",
       "    </tr>\n",
       "    <tr>\n",
       "      <th></th>\n",
       "      <th>count</th>\n",
       "      <th>mean</th>\n",
       "      <th>std</th>\n",
       "      <th>min</th>\n",
       "      <th>25%</th>\n",
       "      <th>50%</th>\n",
       "      <th>75%</th>\n",
       "      <th>max</th>\n",
       "    </tr>\n",
       "    <tr>\n",
       "      <th>SourceUrl</th>\n",
       "      <th></th>\n",
       "      <th></th>\n",
       "      <th></th>\n",
       "      <th></th>\n",
       "      <th></th>\n",
       "      <th></th>\n",
       "      <th></th>\n",
       "      <th></th>\n",
       "    </tr>\n",
       "  </thead>\n",
       "  <tbody>\n",
       "    <tr>\n",
       "      <th>https://gpspelle.click/sa-east-1/10kb</th>\n",
       "      <td>10.0</td>\n",
       "      <td>336.925267</td>\n",
       "      <td>837.373510</td>\n",
       "      <td>34.884250</td>\n",
       "      <td>44.849708</td>\n",
       "      <td>57.503813</td>\n",
       "      <td>70.401614</td>\n",
       "      <td>2714.615708</td>\n",
       "    </tr>\n",
       "    <tr>\n",
       "      <th>https://sa-east-1-latency-test-pfg-unicamp.s3.sa-east-1.amazonaws.com/sa-east-1/10kb</th>\n",
       "      <td>10.0</td>\n",
       "      <td>186.765679</td>\n",
       "      <td>95.559381</td>\n",
       "      <td>97.332541</td>\n",
       "      <td>127.961885</td>\n",
       "      <td>146.796833</td>\n",
       "      <td>238.229447</td>\n",
       "      <td>388.882416</td>\n",
       "    </tr>\n",
       "  </tbody>\n",
       "</table>\n",
       "</div>"
      ],
      "text/plain": [
       "                                                   ElapsedTime              \\\n",
       "                                                         count        mean   \n",
       "SourceUrl                                                                    \n",
       "https://gpspelle.click/sa-east-1/10kb                     10.0  336.925267   \n",
       "https://sa-east-1-latency-test-pfg-unicamp.s3.s...        10.0  186.765679   \n",
       "\n",
       "                                                                           \\\n",
       "                                                           std        min   \n",
       "SourceUrl                                                                   \n",
       "https://gpspelle.click/sa-east-1/10kb               837.373510  34.884250   \n",
       "https://sa-east-1-latency-test-pfg-unicamp.s3.s...   95.559381  97.332541   \n",
       "\n",
       "                                                                            \\\n",
       "                                                           25%         50%   \n",
       "SourceUrl                                                                    \n",
       "https://gpspelle.click/sa-east-1/10kb                44.849708   57.503813   \n",
       "https://sa-east-1-latency-test-pfg-unicamp.s3.s...  127.961885  146.796833   \n",
       "\n",
       "                                                                             \n",
       "                                                           75%          max  \n",
       "SourceUrl                                                                    \n",
       "https://gpspelle.click/sa-east-1/10kb                70.401614  2714.615708  \n",
       "https://sa-east-1-latency-test-pfg-unicamp.s3.s...  238.229447   388.882416  "
      ]
     },
     "execution_count": 15,
     "metadata": {},
     "output_type": "execute_result"
    }
   ],
   "source": []
  },
  {
   "cell_type": "code",
   "execution_count": 7,
   "id": "903e8f46",
   "metadata": {},
   "outputs": [],
   "source": [
    "fetch_latency_average = {}\n",
    "for AWS_region in AWS_regions:\n",
    "    fetch_latency_average[AWS_region] = {}\n",
    "    for file_size in file_sizes:\n",
    "        df = logs[AWS_region][file_size]\n",
    "        fetch_latency_average[AWS_region][file_size] = df['ElapsedTime'].mean().to_dict()"
   ]
  },
  {
   "cell_type": "code",
   "execution_count": null,
   "id": "e881c220",
   "metadata": {},
   "outputs": [],
   "source": [
    "fetch_latency_average_ = {}\n",
    "for AWS_region in AWS_regions:\n",
    "    fetch_latency_average_[AWS_region] = {}\n",
    "    for file_size in file_sizes:\n",
    "        df = logs[AWS_region][file_size]\n",
    "        fetch_latency_average_[file_size][AWS_region] = df['ElapsedTime'].mean().to_dict()"
   ]
  },
  {
   "cell_type": "code",
   "execution_count": 8,
   "id": "eabd5794",
   "metadata": {},
   "outputs": [],
   "source": [
    "def pretty(d, indent=0):\n",
    "    for key, value in d.items():\n",
    "        print('\\t' * indent + str(key))\n",
    "        if isinstance(value, dict):\n",
    "            pretty(value, indent+1)\n",
    "        else:\n",
    "            print('\\t' * (indent+1) + str(value))"
   ]
  },
  {
   "cell_type": "code",
   "execution_count": 9,
   "id": "46f922e8",
   "metadata": {},
   "outputs": [
    {
     "name": "stdout",
     "output_type": "stream",
     "text": [
      "sa-east-1\n",
      "\t1kb\n",
      "\t\thttps://gpspelle.click/sa-east-1/1kb\n",
      "\t\t\t733.8958291053772\n",
      "\t\thttps://sa-east-1-latency-test-pfg-unicamp.s3.sa-east-1.amazonaws.com/sa-east-1/1kb\n",
      "\t\t\t144.75353779792786\n",
      "\t10kb\n",
      "\t\thttps://gpspelle.click/sa-east-1/10kb\n",
      "\t\t\t336.92526683807375\n",
      "\t\thttps://sa-east-1-latency-test-pfg-unicamp.s3.sa-east-1.amazonaws.com/sa-east-1/10kb\n",
      "\t\t\t186.76567883491515\n",
      "\t100kb\n",
      "\t\thttps://gpspelle.click/sa-east-1/100kb\n",
      "\t\t\t231.2195915699005\n",
      "\t\thttps://sa-east-1-latency-test-pfg-unicamp.s3.sa-east-1.amazonaws.com/sa-east-1/100kb\n",
      "\t\t\t339.31523766517637\n",
      "\t1000kb\n",
      "\t\thttps://gpspelle.click/sa-east-1/1000kb\n",
      "\t\t\t208.14604573249818\n",
      "\t\thttps://sa-east-1-latency-test-pfg-unicamp.s3.sa-east-1.amazonaws.com/sa-east-1/1000kb\n",
      "\t\t\t1188.8530958652495\n",
      "us-east-1\n",
      "\t1kb\n",
      "\t\thttps://gpspelle.click/us-east-1/1kb\n",
      "\t\t\t58.4272581577301\n",
      "\t\thttps://us-east-1-latency-test-pfg-unicamp.s3.us-east-1.amazonaws.com/us-east-1/1kb\n",
      "\t\t\t849.2787250518799\n",
      "\t10kb\n",
      "\t\thttps://gpspelle.click/us-east-1/10kb\n",
      "\t\t\t76.48697919845581\n",
      "\t\thttps://us-east-1-latency-test-pfg-unicamp.s3.us-east-1.amazonaws.com/us-east-1/10kb\n",
      "\t\t\t801.8191123485565\n",
      "\t100kb\n",
      "\t\thttps://gpspelle.click/us-east-1/100kb\n",
      "\t\t\t117.05087933540344\n",
      "\t\thttps://us-east-1-latency-test-pfg-unicamp.s3.us-east-1.amazonaws.com/us-east-1/100kb\n",
      "\t\t\t1155.8553164958953\n",
      "\t1000kb\n",
      "\t\thttps://gpspelle.click/us-east-1/1000kb\n",
      "\t\t\t331.34216260910034\n",
      "\t\thttps://us-east-1-latency-test-pfg-unicamp.s3.us-east-1.amazonaws.com/us-east-1/1000kb\n",
      "\t\t\t3626.6233248710632\n",
      "af-south-1\n",
      "\t1kb\n",
      "\t\thttps://af-south-1-latency-test-pfg-unicamp.s3.af-south-1.amazonaws.com/af-south-1/1kb\n",
      "\t\t\t1616.351083087921\n",
      "\t\thttps://gpspelle.click/af-south-1/1kb\n",
      "\t\t\t76.2641706943512\n",
      "\t10kb\n",
      "\t\thttps://af-south-1-latency-test-pfg-unicamp.s3.af-south-1.amazonaws.com/af-south-1/10kb\n",
      "\t\t\t1567.4558040618897\n",
      "\t\thttps://gpspelle.click/af-south-1/10kb\n",
      "\t\t\t73.49593334197998\n",
      "\t100kb\n",
      "\t\thttps://af-south-1-latency-test-pfg-unicamp.s3.af-south-1.amazonaws.com/af-south-1/100kb\n",
      "\t\t\t2655.8376751422884\n",
      "\t\thttps://gpspelle.click/af-south-1/100kb\n",
      "\t\t\t169.77356667518615\n",
      "\t1000kb\n",
      "\t\thttps://af-south-1-latency-test-pfg-unicamp.s3.af-south-1.amazonaws.com/af-south-1/1000kb\n",
      "\t\t\t5415.452787351608\n",
      "\t\thttps://gpspelle.click/af-south-1/1000kb\n",
      "\t\t\t837.855320739746\n",
      "ap-northeast-1\n",
      "\t1kb\n",
      "\t\thttps://ap-northeast-1-latency-test-pfg-unicamp.s3.ap-northeast-1.amazonaws.com/ap-northeast-1/1kb\n",
      "\t\t\t1301.497229194641\n",
      "\t\thttps://gpspelle.click/ap-northeast-1/1kb\n",
      "\t\t\t1975.6793084144597\n",
      "\t10kb\n",
      "\t\thttps://ap-northeast-1-latency-test-pfg-unicamp.s3.ap-northeast-1.amazonaws.com/ap-northeast-1/10kb\n",
      "\t\t\t1397.6979709148407\n",
      "\t\thttps://gpspelle.click/ap-northeast-1/10kb\n",
      "\t\t\t694.3701417922973\n",
      "\t100kb\n",
      "\t\thttps://ap-northeast-1-latency-test-pfg-unicamp.s3.ap-northeast-1.amazonaws.com/ap-northeast-1/100kb\n",
      "\t\t\t2088.642099905014\n",
      "\t\thttps://gpspelle.click/ap-northeast-1/100kb\n",
      "\t\t\t1163.9183539867402\n",
      "\t1000kb\n",
      "\t\thttps://ap-northeast-1-latency-test-pfg-unicamp.s3.ap-northeast-1.amazonaws.com/ap-northeast-1/1000kb\n",
      "\t\t\t5980.308925008774\n",
      "\t\thttps://gpspelle.click/ap-northeast-1/1000kb\n",
      "\t\t\t2257.617287492752\n",
      "eu-west-1\n",
      "\t1kb\n",
      "\t\thttps://eu-west-1-latency-test-pfg-unicamp.s3.eu-west-1.amazonaws.com/eu-west-1/1kb\n",
      "\t\t\t1073.2178000926972\n",
      "\t\thttps://gpspelle.click/eu-west-1/1kb\n",
      "\t\t\t77.1778582572937\n",
      "\t10kb\n",
      "\t\thttps://eu-west-1-latency-test-pfg-unicamp.s3.eu-west-1.amazonaws.com/eu-west-1/10kb\n",
      "\t\t\t1153.001654291153\n",
      "\t\thttps://gpspelle.click/eu-west-1/10kb\n",
      "\t\t\t65.08666672706605\n",
      "\t100kb\n",
      "\t\thttps://eu-west-1-latency-test-pfg-unicamp.s3.eu-west-1.amazonaws.com/eu-west-1/100kb\n",
      "\t\t\t1594.606470823288\n",
      "\t\thttps://gpspelle.click/eu-west-1/100kb\n",
      "\t\t\t121.24783353805542\n",
      "\t1000kb\n",
      "\t\thttps://eu-west-1-latency-test-pfg-unicamp.s3.eu-west-1.amazonaws.com/eu-west-1/1000kb\n",
      "\t\t\t3985.1231664657594\n",
      "\t\thttps://gpspelle.click/eu-west-1/1000kb\n",
      "\t\t\t324.8571000099182\n",
      "ap-southeast-2\n",
      "\t1kb\n",
      "\t\thttps://ap-southeast-2-latency-test-pfg-unicamp.s3.ap-southeast-2.amazonaws.com/ap-southeast-2/1kb\n",
      "\t\t\t1599.604050064087\n",
      "\t\thttps://gpspelle.click/ap-southeast-2/1kb\n",
      "\t\t\t669.2708708763123\n",
      "\t10kb\n",
      "\t\thttps://ap-southeast-2-latency-test-pfg-unicamp.s3.ap-southeast-2.amazonaws.com/ap-southeast-2/10kb\n",
      "\t\t\t1458.4843540668487\n",
      "\t\thttps://gpspelle.click/ap-southeast-2/10kb\n",
      "\t\t\t869.3256084918976\n",
      "\t100kb\n",
      "\t\thttps://ap-southeast-2-latency-test-pfg-unicamp.s3.ap-southeast-2.amazonaws.com/ap-southeast-2/100kb\n",
      "\t\t\t2761.5643832683563\n",
      "\t\thttps://gpspelle.click/ap-southeast-2/100kb\n",
      "\t\t\t973.4930958271027\n",
      "\t1000kb\n",
      "\t\thttps://ap-southeast-2-latency-test-pfg-unicamp.s3.ap-southeast-2.amazonaws.com/ap-southeast-2/1000kb\n",
      "\t\t\t6541.609762382507\n",
      "\t\thttps://gpspelle.click/ap-southeast-2/1000kb\n",
      "\t\t\t1755.489258146286\n",
      "None\n"
     ]
    }
   ],
   "source": [
    "print(pretty(fetch_latency_average))"
   ]
  },
  {
   "cell_type": "code",
   "execution_count": null,
   "id": "f68fe62c",
   "metadata": {},
   "outputs": [],
   "source": []
  },
  {
   "cell_type": "code",
   "execution_count": 10,
   "id": "61eee350",
   "metadata": {},
   "outputs": [],
   "source": [
    "world_base = gpd.read_file(gpd.datasets.get_path('naturalearth_lowres'))\n",
    "world_base = world_base[(world_base.pop_est>0) & (world_base.name!=\"Antarctica\")]\n",
    "world_base['fetch_latency'] = np.nan"
   ]
  },
  {
   "cell_type": "code",
   "execution_count": 11,
   "id": "18f0d75e",
   "metadata": {},
   "outputs": [
    {
     "data": {
      "image/png": "[encoded data removed]",
      "text/plain": [
       "<Figure size 1440x1440 with 4 Axes>"
      ]
     },
     "metadata": {
      "needs_background": "light"
     },
     "output_type": "display_data"
    },
    {
     "data": {
      "image/png": "[encoded data removed]",
      "text/plain": [
       "<Figure size 1440x1440 with 4 Axes>"
      ]
     },
     "metadata": {
      "needs_background": "light"
     },
     "output_type": "display_data"
    },
    {
     "data": {
      "image/png": "[encoded data removed]",
      "text/plain": [
       "<Figure size 1440x1440 with 4 Axes>"
      ]
     },
     "metadata": {
      "needs_background": "light"
     },
     "output_type": "display_data"
    },
    {
     "data": {
      "image/png": "[encoded data removed]",
      "text/plain": [
       "<Figure size 1440x1440 with 4 Axes>"
      ]
     },
     "metadata": {
      "needs_background": "light"
     },
     "output_type": "display_data"
    }
   ],
   "source": [
    "worlds = {}\n",
    "for i, file_size in enumerate(file_sizes):\n",
    "    fig, (ax1, ax2) = plt.subplots(ncols=2, sharex=True, sharey=True, figsize=(20,20))\n",
    "    divider1 = make_axes_locatable(ax1)\n",
    "    cax1 = divider1.append_axes(\"right\", size=\"5%\", pad=0.1)\n",
    "    title1=\"Using cloudfront CDN \" + file_size\n",
    "    ax1.set_title(title1)\n",
    "    divider2 = make_axes_locatable(ax2)\n",
    "    cax2 = divider2.append_axes(\"right\", size=\"5%\", pad=0.1)\n",
    "    title2=\"Not using cloudfront CDN \" + file_size\n",
    "    ax2.set_title(title2)\n",
    "    ax1.axis('off')\n",
    "    ax2.axis('off')\n",
    "    worlds[file_size] = {}\n",
    "    worlds[file_size]['custom_domain'] = world_base.copy(deep=True)\n",
    "    worlds[file_size]['not_custom_domain'] = world_base.copy(deep=True)\n",
    "    for AWS_region in AWS_regions:\n",
    "        for fetch_source_url in fetch_latency_average[AWS_region][file_size]:\n",
    "            if custom_domain in fetch_source_url:\n",
    "                # using custom domain and cloud front CDN\n",
    "                region = AWS_regions[AWS_region]\n",
    "                world = worlds[file_size]['custom_domain'] \n",
    "                world.loc[world.name == region, 'fetch_latency'] = fetch_latency_average[AWS_region][file_size][fetch_source_url]\n",
    "            else:\n",
    "                # not custom domain directly S3 bucket\n",
    "                region = AWS_regions[AWS_region]\n",
    "                world = worlds[file_size]['not_custom_domain'] \n",
    "                world.loc[world.name == region, 'fetch_latency'] = fetch_latency_average[AWS_region][file_size][fetch_source_url]\n",
    "                title=\"Not using cloudfront cdn \" + file_size\n",
    "        \n",
    "    worlds[file_size]['custom_domain'].plot(ax=ax1, cax=cax1, column='fetch_latency', cmap=\"hot\", legend=True, vmax=10000, vmin=0)\n",
    "    worlds[file_size]['not_custom_domain'].plot(ax=ax2, cax=cax2, column='fetch_latency', cmap=\"hot\", legend=True, vmax=10000, vmin=0)\n",
    "    plt.savefig(file_size + '.jpg', bbox_inches='tight')"
   ]
  },
  {
   "cell_type": "code",
   "execution_count": null,
   "id": "5b595f3b",
   "metadata": {},
   "outputs": [],
   "source": []
  }
 ],
 "metadata": {
  "kernelspec": {
   "display_name": "Python 3 (ipykernel)",
   "language": "python",
   "name": "python3"
  },
  "language_info": {
   "codemirror_mode": {
    "name": "ipython",
    "version": 3
   },
   "file_extension": ".py",
   "mimetype": "text/x-python",
   "name": "python",
   "nbconvert_exporter": "python",
   "pygments_lexer": "ipython3",
   "version": "3.9.13"
  }
 },
 "nbformat": 4,
 "nbformat_minor": 5
}
